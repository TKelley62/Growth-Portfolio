{
 "cells": [
  {
   "cell_type": "code",
   "execution_count": null,
   "metadata": {},
   "outputs": [],
   "source": [
    "#import all libraries\n",
    "import matplotlib.pyplot as plt\n",
    "import numpy as np\n",
    "import pandas as pd"
   ]
  },
  {
   "cell_type": "code",
   "execution_count": 40,
   "metadata": {},
   "outputs": [
    {
     "name": "stdout",
     "output_type": "stream",
     "text": [
      "    Ticker       Date   Price\n",
      "0     SPOT 2021-01-04  311.00\n",
      "1     SPOT 2021-01-05  313.72\n",
      "2     SPOT 2021-01-06  314.24\n",
      "3     SPOT 2021-01-07  331.36\n",
      "4     SPOT 2021-01-08  353.11\n",
      "..     ...        ...     ...\n",
      "124   SPOT 2021-07-01  268.63\n",
      "125   SPOT 2021-07-02  267.83\n",
      "126   SPOT 2021-07-06  263.52\n",
      "127   SPOT 2021-07-07  259.04\n",
      "128   SPOT 2021-07-08  256.15\n",
      "\n",
      "[129 rows x 3 columns]\n"
     ]
    }
   ],
   "source": [
    "#change date column from object to dateime 64\n",
    "date_cols = ['Date']\n",
    "df = pd.read_csv ('C:\\Desktop\\growth_portfolio.csv',parse_dates=date_cols)\n",
    "print(df)"
   ]
  },
  {
   "cell_type": "code",
   "execution_count": 41,
   "metadata": {},
   "outputs": [
    {
     "name": "stdout",
     "output_type": "stream",
     "text": [
      "0      311.00\n",
      "1      313.72\n",
      "2      314.24\n",
      "3      331.36\n",
      "4      353.11\n",
      "        ...  \n",
      "124    268.63\n",
      "125    267.83\n",
      "126    263.52\n",
      "127    259.04\n",
      "128    256.15\n",
      "Name: Price, Length: 129, dtype: float64\n"
     ]
    }
   ],
   "source": [
    "prices = df.Price\n",
    "print(prices)"
   ]
  },
  {
   "cell_type": "code",
   "execution_count": 42,
   "metadata": {},
   "outputs": [
    {
     "name": "stdout",
     "output_type": "stream",
     "text": [
      "<class 'pandas.core.frame.DataFrame'>\n",
      "RangeIndex: 129 entries, 0 to 128\n",
      "Data columns (total 3 columns):\n",
      "Ticker    129 non-null object\n",
      "Date      129 non-null datetime64[ns]\n",
      "Price     129 non-null float64\n",
      "dtypes: datetime64[ns](1), float64(1), object(1)\n",
      "memory usage: 3.1+ KB\n"
     ]
    }
   ],
   "source": [
    "df.info()"
   ]
  },
  {
   "cell_type": "code",
   "execution_count": 43,
   "metadata": {},
   "outputs": [
    {
     "name": "stdout",
     "output_type": "stream",
     "text": [
      "0     2021-01-04\n",
      "1     2021-01-05\n",
      "2     2021-01-06\n",
      "3     2021-01-07\n",
      "4     2021-01-08\n",
      "         ...    \n",
      "124   2021-07-01\n",
      "125   2021-07-02\n",
      "126   2021-07-06\n",
      "127   2021-07-07\n",
      "128   2021-07-08\n",
      "Name: Date, Length: 129, dtype: datetime64[ns]\n"
     ]
    }
   ],
   "source": [
    "date = df.Date\n",
    "print(date)"
   ]
  },
  {
   "cell_type": "code",
   "execution_count": 49,
   "metadata": {},
   "outputs": [
    {
     "name": "stdout",
     "output_type": "stream",
     "text": [
      "0           NaN\n",
      "1      0.008708\n",
      "2      0.001656\n",
      "3      0.053048\n",
      "4      0.063574\n",
      "         ...   \n",
      "124   -0.025579\n",
      "125   -0.002983\n",
      "126   -0.016223\n",
      "127   -0.017147\n",
      "128   -0.011219\n",
      "Name: Price, Length: 129, dtype: float64\n"
     ]
    }
   ],
   "source": [
    "#Getting the Log of the Percentage Change\n",
    "spot_pct_change = prices.pct_change().apply(lambda x: np.log(x+1))\n",
    "print(spot_pct_change)"
   ]
  },
  {
   "cell_type": "code",
   "execution_count": 51,
   "metadata": {},
   "outputs": [
    {
     "name": "stdout",
     "output_type": "stream",
     "text": [
      "0.0010876441015873538\n"
     ]
    }
   ],
   "source": [
    "spot.var = spot_pct_change.var()\n",
    "print(var_spot)"
   ]
  },
  {
   "cell_type": "code",
   "execution_count": 52,
   "metadata": {},
   "outputs": [
    {
     "name": "stdout",
     "output_type": "stream",
     "text": [
      "0.5214508849324531\n"
     ]
    }
   ],
   "source": [
    "spot_vol = np.sqrt(spot.var * 250)\n",
    "print(spot_vol)"
   ]
  },
  {
   "cell_type": "code",
   "execution_count": 54,
   "metadata": {},
   "outputs": [
    {
     "ename": "AttributeError",
     "evalue": "'float' object has no attribute 'plot'",
     "output_type": "error",
     "traceback": [
      "\u001b[1;31m---------------------------------------------------------------------------\u001b[0m",
      "\u001b[1;31mAttributeError\u001b[0m                            Traceback (most recent call last)",
      "\u001b[1;32m<ipython-input-54-69651b1be917>\u001b[0m in \u001b[0;36m<module>\u001b[1;34m\u001b[0m\n\u001b[1;32m----> 1\u001b[1;33m \u001b[0mspot\u001b[0m\u001b[1;33m.\u001b[0m\u001b[0mpct_change\u001b[0m\u001b[1;33m(\u001b[0m\u001b[1;33m)\u001b[0m\u001b[1;33m.\u001b[0m\u001b[0mapply\u001b[0m\u001b[1;33m(\u001b[0m\u001b[1;32mlambda\u001b[0m \u001b[0mx\u001b[0m\u001b[1;33m:\u001b[0m \u001b[0mnp\u001b[0m\u001b[1;33m.\u001b[0m\u001b[0mlog\u001b[0m\u001b[1;33m(\u001b[0m\u001b[1;36m1\u001b[0m\u001b[1;33m+\u001b[0m\u001b[0mx\u001b[0m\u001b[1;33m)\u001b[0m\u001b[1;33m)\u001b[0m\u001b[1;33m.\u001b[0m\u001b[0mstd\u001b[0m\u001b[1;33m(\u001b[0m\u001b[1;33m)\u001b[0m\u001b[1;33m.\u001b[0m\u001b[0mplot\u001b[0m\u001b[1;33m(\u001b[0m\u001b[0mkind\u001b[0m\u001b[1;33m=\u001b[0m\u001b[1;34m'bar'\u001b[0m\u001b[1;33m)\u001b[0m\u001b[1;33m\u001b[0m\u001b[1;33m\u001b[0m\u001b[0m\n\u001b[0m",
      "\u001b[1;31mAttributeError\u001b[0m: 'float' object has no attribute 'plot'"
     ]
    }
   ],
   "source": []
  },
  {
   "cell_type": "code",
   "execution_count": null,
   "metadata": {},
   "outputs": [],
   "source": []
  }
 ],
 "metadata": {
  "kernelspec": {
   "display_name": "Python 3",
   "language": "python",
   "name": "python3"
  },
  "language_info": {
   "codemirror_mode": {
    "name": "ipython",
    "version": 3
   },
   "file_extension": ".py",
   "mimetype": "text/x-python",
   "name": "python",
   "nbconvert_exporter": "python",
   "pygments_lexer": "ipython3",
   "version": "3.8.5"
  }
 },
 "nbformat": 4,
 "nbformat_minor": 4
}
